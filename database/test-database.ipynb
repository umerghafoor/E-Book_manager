{
 "cells": [
  {
   "cell_type": "code",
   "execution_count": null,
   "metadata": {},
   "outputs": [],
   "source": [
    "from database_setup import BookDatabase"
   ]
  },
  {
   "cell_type": "markdown",
   "metadata": {},
   "source": [
    "cleaning up old files"
   ]
  },
  {
   "cell_type": "code",
   "execution_count": null,
   "metadata": {},
   "outputs": [],
   "source": [
    "import os\n",
    "# delete books.db if it exists\n",
    "if os.path.exists('books.db'):\n",
    "    os.remove('books.db')"
   ]
  },
  {
   "cell_type": "code",
   "execution_count": null,
   "metadata": {},
   "outputs": [],
   "source": [
    "\n",
    "book_db = BookDatabase()\n",
    "book_db.create_database()"
   ]
  },
  {
   "cell_type": "markdown",
   "metadata": {},
   "source": [
    "## 1. Book Database"
   ]
  },
  {
   "cell_type": "code",
   "execution_count": null,
   "metadata": {},
   "outputs": [],
   "source": [
    "# Add sample books\n",
    "book_db.add_book(\n",
    "    'The Great Gatsby', 'A Novel', 'F. Scott Fitzgerald', 'Charles Scribner\\'s Sons', \n",
    "    '1925-04-10', 218, 'Fiction', '/path/to/TheGreatGatsby.pdf', '/path/to/thumbnail.jpg', \n",
    "    'A classic novel of the Jazz Age', 'classic, novel, 1920s'\n",
    ")\n",
    "book_db.add_book(\n",
    "    '1984', 'A Novel', 'George Orwell', 'Secker & Warburg', \n",
    "    '1949-06-08', 328, 'Dystopian', '/path/to/1984.pdf', '/path/to/thumbnail2.jpg', \n",
    "    'A dystopian social science fiction novel', 'dystopian, fiction, totalitarianism'\n",
    ")\n",
    "book_db.add_book(\n",
    "    'To Kill a Mockingbird', 'A Novel', 'Harper Lee', 'J.B. Lippincott & Co.', \n",
    "    '1960-07-11', 281, 'Fiction', '/path/to/ToKillAMockingbird.pdf', '/path/to/thumbnail3.jpg', \n",
    "    'A novel about racial injustice in the Deep South', 'classic, novel, social justice'\n",
    ")"
   ]
  },
  {
   "cell_type": "code",
   "execution_count": null,
   "metadata": {},
   "outputs": [],
   "source": [
    "# Retrieve and print a book by title\n",
    "book = book_db.get_book_by_title('1984')\n",
    "print(\"Retrieved book by title:\", book)"
   ]
  },
  {
   "cell_type": "code",
   "execution_count": null,
   "metadata": {},
   "outputs": [],
   "source": [
    "# Retrieve and print all books\n",
    "books = book_db.get_all_books()\n",
    "print(\"All books in the database:\")\n",
    "for b in books:\n",
    "    print(b)"
   ]
  },
  {
   "cell_type": "code",
   "execution_count": null,
   "metadata": {},
   "outputs": [],
   "source": [
    "book_db.edit_book(book_id=2, author='George none', notes='Updated note')\n",
    "book = book_db.get_book_by_title('1984')\n",
    "print(\"Updated book:\", book)"
   ]
  },
  {
   "cell_type": "code",
   "execution_count": null,
   "metadata": {},
   "outputs": [],
   "source": [
    "book_db.get_tags_by_book_id(2)"
   ]
  },
  {
   "cell_type": "code",
   "execution_count": null,
   "metadata": {},
   "outputs": [],
   "source": [
    "book_db.get_author_by_book_id(2)"
   ]
  },
  {
   "cell_type": "code",
   "execution_count": null,
   "metadata": {},
   "outputs": [],
   "source": [
    "book_db.add_tag_to_book(2, 'updated')"
   ]
  },
  {
   "cell_type": "markdown",
   "metadata": {},
   "source": [
    "## 2. User Database"
   ]
  },
  {
   "cell_type": "code",
   "execution_count": 1,
   "metadata": {},
   "outputs": [],
   "source": [
    "from database_setup import UserDatabase"
   ]
  },
  {
   "cell_type": "code",
   "execution_count": 2,
   "metadata": {},
   "outputs": [],
   "source": [
    "user_db = UserDatabase()\n",
    "user_db.create_tables()"
   ]
  },
  {
   "cell_type": "code",
   "execution_count": 3,
   "metadata": {},
   "outputs": [],
   "source": [
    "user_db.create_user('umerghafoor', 'password', 'umerghforr@gmail.com')"
   ]
  },
  {
   "cell_type": "code",
   "execution_count": 15,
   "metadata": {},
   "outputs": [],
   "source": [
    "user_db.add_user_book_progress('umerghafoor',2,98)\n",
    "user_db.add_user_note('umerghafoor',2,'This is a note kjfd')"
   ]
  },
  {
   "cell_type": "code",
   "execution_count": 16,
   "metadata": {},
   "outputs": [
    {
     "data": {
      "text/plain": [
       "[('This is a note', '2024-06-29 00:02:35'),\n",
       " ('This is a note kjfd', '2024-06-29 00:03:03')]"
      ]
     },
     "execution_count": 16,
     "metadata": {},
     "output_type": "execute_result"
    }
   ],
   "source": [
    "user_db.get_user_book_progress('umerghafoor',2)\n",
    "user_db.get_user_notes('umerghafoor',2)"
   ]
  }
 ],
 "metadata": {
  "kernelspec": {
   "display_name": "Python 3",
   "language": "python",
   "name": "python3"
  },
  "language_info": {
   "codemirror_mode": {
    "name": "ipython",
    "version": 3
   },
   "file_extension": ".py",
   "mimetype": "text/x-python",
   "name": "python",
   "nbconvert_exporter": "python",
   "pygments_lexer": "ipython3",
   "version": "3.12.2"
  }
 },
 "nbformat": 4,
 "nbformat_minor": 2
}
