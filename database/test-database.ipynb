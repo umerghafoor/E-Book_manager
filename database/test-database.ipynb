{
 "cells": [
  {
   "cell_type": "code",
   "execution_count": 1,
   "metadata": {},
   "outputs": [],
   "source": [
    "from database_setup import *"
   ]
  },
  {
   "cell_type": "code",
   "execution_count": 2,
   "metadata": {},
   "outputs": [],
   "source": [
    "create_database()"
   ]
  },
  {
   "cell_type": "code",
   "execution_count": 3,
   "metadata": {},
   "outputs": [
    {
     "name": "stdout",
     "output_type": "stream",
     "text": [
      "Database and table created, and sample books added.\n"
     ]
    }
   ],
   "source": [
    "add_book(\n",
    "    'The Great Gatsby', 'A Novel', 'F. Scott Fitzgerald', 'Charles Scribner\\'s Sons', \n",
    "    '1925-04-10', 218, 'Fiction', '/path/to/TheGreatGatsby.pdf', '/path/to/thumbnail.jpg', \n",
    "    'A classic novel of the Jazz Age', 'classic, novel, 1920s'\n",
    ")\n",
    "add_book(\n",
    "    '1984', 'A Novel', 'George Orwell', 'Secker & Warburg', \n",
    "    '1949-06-08', 328, 'Dystopian', '/path/to/1984.pdf', '/path/to/thumbnail2.jpg', \n",
    "    'A dystopian social science fiction novel', 'dystopian, fiction, totalitarianism'\n",
    ")\n",
    "add_book(\n",
    "    'To Kill a Mockingbird', 'A Novel', 'Harper Lee', 'J.B. Lippincott & Co.', \n",
    "    '1960-07-11', 281, 'Fiction', '/path/to/ToKillAMockingbird.pdf', '/path/to/thumbnail3.jpg', \n",
    "    'A novel about racial injustice in the Deep South', 'classic, novel, social justice'\n",
    ")\n",
    "print(\"Database and table created, and sample books added.\")"
   ]
  },
  {
   "cell_type": "code",
   "execution_count": 4,
   "metadata": {},
   "outputs": [
    {
     "name": "stdout",
     "output_type": "stream",
     "text": [
      "Retrieved book by title: (2, '1984', 'A Novel', 'George Orwell', 'Secker & Warburg', '1949-06-08', 328, 'Dystopian', '/path/to/1984.pdf', '/path/to/thumbnail2.jpg', 'A dystopian social science fiction novel', 'dystopian, fiction, totalitarianism')\n"
     ]
    }
   ],
   "source": [
    "# Retrieve and print a book by title\n",
    "book = get_book_by_title('1984')\n",
    "print(\"Retrieved book by title:\", book)"
   ]
  },
  {
   "cell_type": "code",
   "execution_count": 5,
   "metadata": {},
   "outputs": [
    {
     "name": "stdout",
     "output_type": "stream",
     "text": [
      "All books in the database:\n",
      "(1, 'The Great Gatsby', 'A Novel', 'F. Scott Fitzgerald', \"Charles Scribner's Sons\", '1925-04-10', 218, 'Fiction', '/path/to/TheGreatGatsby.pdf', '/path/to/thumbnail.jpg', 'A classic novel of the Jazz Age', 'classic, novel, 1920s')\n",
      "(2, '1984', 'A Novel', 'George Orwell', 'Secker & Warburg', '1949-06-08', 328, 'Dystopian', '/path/to/1984.pdf', '/path/to/thumbnail2.jpg', 'A dystopian social science fiction novel', 'dystopian, fiction, totalitarianism')\n",
      "(3, 'To Kill a Mockingbird', 'A Novel', 'Harper Lee', 'J.B. Lippincott & Co.', '1960-07-11', 281, 'Fiction', '/path/to/ToKillAMockingbird.pdf', '/path/to/thumbnail3.jpg', 'A novel about racial injustice in the Deep South', 'classic, novel, social justice')\n"
     ]
    }
   ],
   "source": [
    "# Retrieve and print all books\n",
    "books = get_all_books()\n",
    "print(\"All books in the database:\")\n",
    "for b in books:\n",
    "    print(b)"
   ]
  },
  {
   "cell_type": "code",
   "execution_count": null,
   "metadata": {},
   "outputs": [],
   "source": []
  }
 ],
 "metadata": {
  "kernelspec": {
   "display_name": "Python 3",
   "language": "python",
   "name": "python3"
  },
  "language_info": {
   "codemirror_mode": {
    "name": "ipython",
    "version": 3
   },
   "file_extension": ".py",
   "mimetype": "text/x-python",
   "name": "python",
   "nbconvert_exporter": "python",
   "pygments_lexer": "ipython3",
   "version": "3.12.2"
  }
 },
 "nbformat": 4,
 "nbformat_minor": 2
}
